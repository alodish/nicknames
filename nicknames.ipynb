{
 "cells": [
  {
   "cell_type": "markdown",
   "id": "a285190d",
   "metadata": {},
   "source": [
    "# Creating Table of Name/ Nickname Relationships from URL\n",
    "---"
   ]
  },
  {
   "cell_type": "markdown",
   "id": "4bac4de0",
   "metadata": {},
   "source": [
    "### Imports\n"
   ]
  },
  {
   "cell_type": "code",
   "execution_count": 208,
   "id": "dd117246",
   "metadata": {},
   "outputs": [],
   "source": [
    "import sys\n",
    "from bs4 import BeautifulSoup\n",
    "import requests\n",
    "import pandas as pd"
   ]
  },
  {
   "cell_type": "markdown",
   "id": "ca120fad",
   "metadata": {},
   "source": [
    "### The best URL I was able to find with a decent amount of nicknames in a parsable format\n",
    "[Website Used](https://www.familysearch.org/en/wiki/Traditional_Nicknames_in_Old_Documents_-_A_Wiki_List)"
   ]
  },
  {
   "cell_type": "code",
   "execution_count": 4,
   "id": "f04f36d5",
   "metadata": {},
   "outputs": [],
   "source": [
    "static_url = \"https://www.familysearch.org/en/wiki/Traditional_Nicknames_in_Old_Documents_-_A_Wiki_List\""
   ]
  },
  {
   "cell_type": "code",
   "execution_count": 8,
   "id": "d6e47065",
   "metadata": {},
   "outputs": [],
   "source": [
    "data = requests.get(static_url).text"
   ]
  },
  {
   "cell_type": "code",
   "execution_count": 9,
   "id": "f4ea3abe",
   "metadata": {},
   "outputs": [],
   "source": [
    "soup = BeautifulSoup(data, 'html5lib')"
   ]
  },
  {
   "cell_type": "code",
   "execution_count": 81,
   "id": "8a203f23",
   "metadata": {},
   "outputs": [
    {
     "data": {
      "text/plain": [
       "<title>Traditional Nicknames in Old Documents - A Wiki List • FamilySearch</title>"
      ]
     },
     "execution_count": 81,
     "metadata": {},
     "output_type": "execute_result"
    }
   ],
   "source": [
    "soup.title"
   ]
  },
  {
   "cell_type": "code",
   "execution_count": 42,
   "id": "42fd3b3f",
   "metadata": {},
   "outputs": [],
   "source": [
    "html_data = soup.find_all(name='p')"
   ]
  },
  {
   "cell_type": "markdown",
   "id": "202962e3",
   "metadata": {},
   "source": [
    "### Find out where \"name = nickname\" begins and ends\n",
    "We'll just loop through all of the lines in soup object to find out at which index the names/ nicknames start/ end"
   ]
  },
  {
   "cell_type": "code",
   "execution_count": 82,
   "id": "4b517af5",
   "metadata": {},
   "outputs": [
    {
     "name": "stdout",
     "output_type": "stream",
     "text": [
      "5\n",
      "Acer = Acera\n",
      "6\n",
      "Xander = Alexander\n",
      "789\n",
      "\n",
      "Xina = Christina\n",
      "790\n",
      "Nickname = Formal Name\n",
      "791\n",
      "Yost = Josef\n",
      "792\n",
      "Nickname = Formal Name\n",
      "793\n",
      "Zac = Isaac\n",
      "794\n",
      "Zach = Zachariah\n",
      "795\n",
      "Zach = Zachary\n",
      "796\n",
      "Zak = Isaac\n",
      "797\n",
      "Zeb = Zebulon\n",
      "798\n",
      "Zed = Zedekiah\n",
      "799\n",
      "Zeke = Ezekiel\n",
      "800\n",
      "Zena = Albertina\n",
      "\t})();\n",
      "\n",
      "805\n",
      "(RLQ=window.RLQ||[]).push(function(){mw.config.set({\"wgBackendResponseTime\":212});});\n"
     ]
    }
   ],
   "source": [
    "lines = [s for s in soup.strings if '=' in s]\n",
    "k = 0\n",
    "for line in lines:\n",
    "    if '=' in line:\n",
    "        print(k)\n",
    "        k += 1\n",
    "        print(line)"
   ]
  },
  {
   "cell_type": "markdown",
   "id": "218e47ad",
   "metadata": {},
   "source": [
    "### Names for Nicknames\n",
    "Our desired information starts at index 5 and ends index 801"
   ]
  },
  {
   "cell_type": "markdown",
   "id": "bc616576",
   "metadata": {},
   "source": [
    "#### Note: While the above filter got us close, we still be extracting \"nickname = formal name\" at the start of each new letter\n",
    "we will filter those out with some simple Boolean logic"
   ]
  },
  {
   "cell_type": "code",
   "execution_count": 161,
   "id": "f2fa7a6b",
   "metadata": {},
   "outputs": [],
   "source": [
    "# With lines already defined and our desired indices determined, we will loop through our soup object again\n",
    "# Storing names, nicknames as key : value pairs ()\n",
    "# There were a few escaped characters and descriptions that were leftover after filtering\n",
    "# These will also be filtered out\n",
    "\n",
    "name_dict = {}\n",
    "filters = [' ', '\\xa0', '\\n', '(orusedasanameforthebabyofthefamily)', '(f)']\n",
    "\n",
    "for line in range(5, 802):\n",
    "    if \"Nickname = Formal Name\" not in lines[line] and \"Butch\" not in lines[line]:     # Butch is a train wreck \n",
    "        pairs = lines[line]\n",
    "        for f in filters:\n",
    "            pairs = pairs.replace(f, '')\n",
    "        pairs = pairs.split('=')\n",
    "        if len(pairs) == 2:\n",
    "            name_dict[pairs[1]] = pairs[0]\n",
    "        else:\n",
    "            nicknames = ''\n",
    "            for p in pairs[:-1]:\n",
    "                nicknames += p + ', '\n",
    "            nicknames = nicknames[:-2]    # get rid of the extra comma\n",
    "            name_dict[pairs[-1]] = nicknames\n"
   ]
  },
  {
   "cell_type": "code",
   "execution_count": 162,
   "id": "53fb8cf2",
   "metadata": {},
   "outputs": [
    {
     "data": {
      "text/plain": [
       "{'Acera': 'Acer',\n",
       " 'Adeline': 'Ada',\n",
       " 'Adelaide': 'Addie',\n",
       " 'Agatha': 'Agnes',\n",
       " 'Zephaniah': 'Zeph'}"
      ]
     },
     "execution_count": 162,
     "metadata": {},
     "output_type": "execute_result"
    }
   ],
   "source": [
    "name_dict"
   ]
  },
  {
   "cell_type": "code",
   "execution_count": 163,
   "id": "25c45017",
   "metadata": {},
   "outputs": [
    {
     "data": {
      "text/plain": [
       "{'Acera': 'Acer',\n",
       " 'Adeline': 'Ada',\n",
       " 'Adelaide': 'Addie',\n",
       " 'Agatha': 'Agnes',\n",
       " 'Agnes': 'Senga',\n",
       " 'Zephaniah': 'Zeph'}"
      ]
     },
     "execution_count": 163,
     "metadata": {},
     "output_type": "execute_result"
    }
   ],
   "source": [
    "# Two escaped the filters. \n",
    "\n",
    "# 'Emilia*Emile'\n",
    "# 'namegivento7thchild'\n",
    "\n",
    "name_dict.pop('Emilia*Emile')\n",
    "name_dict.pop('namegivento7thchild')\n",
    "\n",
    "name_dict"
   ]
  },
  {
   "cell_type": "markdown",
   "id": "ff49c1cb",
   "metadata": {},
   "source": [
    "### I know none of this is optimal...\n",
    "I have a habit of wasting far too much time trying to optimize trivial tasks.\n",
    "\n",
    "This is not one of those times.\n",
    "\n"
   ]
  },
  {
   "cell_type": "code",
   "execution_count": 173,
   "id": "d264633f",
   "metadata": {},
   "outputs": [],
   "source": [
    "df = pd.DataFrame.from_dict([name_dict])"
   ]
  },
  {
   "cell_type": "code",
   "execution_count": 220,
   "id": "9fd20e53",
   "metadata": {},
   "outputs": [
    {
     "data": {
      "text/html": [
       "<div>\n",
       "<style scoped>\n",
       "    .dataframe tbody tr th:only-of-type {\n",
       "        vertical-align: middle;\n",
       "    }\n",
       "\n",
       "    .dataframe tbody tr th {\n",
       "        vertical-align: top;\n",
       "    }\n",
       "\n",
       "    .dataframe thead th {\n",
       "        text-align: right;\n",
       "    }\n",
       "</style>\n",
       "<table border=\"1\" class=\"dataframe\">\n",
       "  <thead>\n",
       "    <tr style=\"text-align: right;\">\n",
       "      <th></th>\n",
       "      <th>0</th>\n",
       "    </tr>\n",
       "  </thead>\n",
       "  <tbody>\n",
       "    <tr>\n",
       "      <th>Acera</th>\n",
       "      <td>Acer</td>\n",
       "    </tr>\n",
       "    <tr>\n",
       "      <th>Adeline</th>\n",
       "      <td>Ada</td>\n",
       "    </tr>\n",
       "    <tr>\n",
       "      <th>Adelaide</th>\n",
       "      <td>Addie</td>\n",
       "    </tr>\n",
       "    <tr>\n",
       "      <th>Agatha</th>\n",
       "      <td>Agnes</td>\n",
       "    </tr>\n",
       "    <tr>\n",
       "      <th>Agnes</th>\n",
       "      <td>Senga</td>\n",
       "    </tr>\n",
       "  </tbody>\n",
       "</table>\n",
       "</div>"
      ],
      "text/plain": [
       "              0\n",
       "Acera      Acer\n",
       "Adeline     Ada\n",
       "Adelaide  Addie\n",
       "Agatha    Agnes\n",
       "Agnes     Senga"
      ]
     },
     "execution_count": 220,
     "metadata": {},
     "output_type": "execute_result"
    }
   ],
   "source": [
    "# We will transpose for better viewing\n",
    "\n",
    "df = df.transpose()\n",
    "df.head(5)"
   ]
  },
  {
   "cell_type": "code",
   "execution_count": 221,
   "id": "de38ac36",
   "metadata": {},
   "outputs": [],
   "source": [
    "df.to_csv('Name_Nicknames.csv')"
   ]
  }
 ],
 "metadata": {
  "kernelspec": {
   "display_name": "Python 3 (ipykernel)",
   "language": "python",
   "name": "python3"
  },
  "language_info": {
   "codemirror_mode": {
    "name": "ipython",
    "version": 3
   },
   "file_extension": ".py",
   "mimetype": "text/x-python",
   "name": "python",
   "nbconvert_exporter": "python",
   "pygments_lexer": "ipython3",
   "version": "3.9.7"
  }
 },
 "nbformat": 4,
 "nbformat_minor": 5
}

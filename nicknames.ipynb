{
 "cells": [
  {
   "cell_type": "markdown",
   "id": "a285190d",
   "metadata": {},
   "source": [
    "# Creating Table of Name/ Nickname Relationships from URL\n",
    "---"
   ]
  },
  {
   "cell_type": "markdown",
   "id": "4bac4de0",
   "metadata": {},
   "source": [
    "### Imports\n"
   ]
  },
  {
   "cell_type": "code",
   "execution_count": 208,
   "id": "dd117246",
   "metadata": {},
   "outputs": [],
   "source": [
    "import sys\n",
    "from bs4 import BeautifulSoup\n",
    "import requests\n",
    "import pandas as pd"
   ]
  },
  {
   "cell_type": "markdown",
   "id": "ca120fad",
   "metadata": {},
   "source": [
    "### The best URL I was able to find with a decent amount of nicknames in a parsable format\n",
    "[Website Used](https://www.familysearch.org/en/wiki/Traditional_Nicknames_in_Old_Documents_-_A_Wiki_List)"
   ]
  },
  {
   "cell_type": "code",
   "execution_count": 4,
   "id": "f04f36d5",
   "metadata": {},
   "outputs": [],
   "source": [
    "static_url = \"https://www.familysearch.org/en/wiki/Traditional_Nicknames_in_Old_Documents_-_A_Wiki_List\""
   ]
  },
  {
   "cell_type": "code",
   "execution_count": 8,
   "id": "d6e47065",
   "metadata": {},
   "outputs": [],
   "source": [
    "data = requests.get(static_url).text"
   ]
  },
  {
   "cell_type": "code",
   "execution_count": 9,
   "id": "f4ea3abe",
   "metadata": {},
   "outputs": [],
   "source": [
    "soup = BeautifulSoup(data, 'html5lib')"
   ]
  },
  {
   "cell_type": "code",
   "execution_count": 81,
   "id": "8a203f23",
   "metadata": {},
   "outputs": [
    {
     "data": {
      "text/plain": [
       "<title>Traditional Nicknames in Old Documents - A Wiki List • FamilySearch</title>"
      ]
     },
     "execution_count": 81,
     "metadata": {},
     "output_type": "execute_result"
    }
   ],
   "source": [
    "soup.title"
   ]
  },
  {
   "cell_type": "code",
   "execution_count": 42,
   "id": "42fd3b3f",
   "metadata": {},
   "outputs": [],
   "source": [
    "html_data = soup.find_all(name='p')"
   ]
  },
  {
   "cell_type": "markdown",
   "id": "202962e3",
   "metadata": {},
   "source": [
    "### Find out where \"name = nickname\" begins and ends\n",
    "We'll just loop through all of the lines in soup object to find out at which index the names/ nicknames start/ end"
   ]
  },
  {
   "cell_type": "code",
   "execution_count": 82,
   "id": "4b517af5",
   "metadata": {},
   "outputs": [
    {
     "name": "stdout",
     "output_type": "stream",
     "text": [
      "0\n",
      "document.documentElement.className=\"client-js\";RLCONF={\"wgBreakFrames\":!1,\"wgSeparatorTransformTable\":[\"\",\"\"],\"wgDigitTransformTable\":[\"\",\"\"],\"wgDefaultDateFormat\":\"dmy\",\"wgMonthNames\":[\"\",\"January\",\"February\",\"March\",\"April\",\"May\",\"June\",\"July\",\"August\",\"September\",\"October\",\"November\",\"December\"],\"wgRequestId\":\"525d2d8845237f130e988178\",\"wgCSPNonce\":!1,\"wgCanonicalNamespace\":\"\",\"wgCanonicalSpecialPageName\":!1,\"wgNamespaceNumber\":0,\"wgPageName\":\"Traditional_Nicknames_in_Old_Documents_-_A_Wiki_List\",\"wgTitle\":\"Traditional Nicknames in Old Documents - A Wiki List\",\"wgCurRevisionId\":4288292,\"wgRevisionId\":4288292,\"wgArticleId\":2987,\"wgIsArticle\":!0,\"wgIsRedirect\":!1,\"wgAction\":\"view\",\"wgUserName\":null,\"wgUserGroups\":[\"*\"],\"wgCategories\":[\"Encyclopedias and Dictionaries\",\"Beginners\",\"Personal Names\"],\"wgPageContentLanguage\":\"en\",\"wgPageContentModel\":\"wikitext\",\"wgRelevantPageName\":\"Traditional_Nicknames_in_Old_Documents_-_A_Wiki_List\",\"wgRelevantArticleId\":2987,\n",
      "\"wgIsProbablyEditable\":!1,\"wgRelevantPageIsProbablyEditable\":!1,\"wgRestrictionEdit\":[],\"wgRestrictionMove\":[],\"sdgDownArrowImage\":\"/en/wiki/extensions/SemanticDrilldown/skins/down-arrow.png\",\"sdgRightArrowImage\":\"/en/wiki/extensions/SemanticDrilldown/skins/right-arrow.png\",\"wgPageFormsTargetName\":null,\"wgPageFormsAutocompleteValues\":[],\"wgPageFormsAutocompleteOnAllChars\":!1,\"wgPageFormsFieldProperties\":[],\"wgPageFormsCargoFields\":[],\"wgPageFormsDependentFields\":[],\"wgPageFormsCalendarValues\":[],\"wgPageFormsCalendarParams\":[],\"wgPageFormsCalendarHTML\":null,\"wgPageFormsGridValues\":[],\"wgPageFormsGridParams\":[],\"wgPageFormsContLangYes\":null,\"wgPageFormsContLangNo\":null,\"wgPageFormsContLangMonths\":[],\"wgPageFormsHeightForMinimizingInstances\":800,\"wgPageFormsShowOnSelect\":[],\"wgPageFormsScriptPath\":\"/en/wiki/extensions/PageForms\",\"edgValues\":[],\"wgPageFormsEDSettings\":null,\"wgAmericanDates\":!1,\"wgULSAcceptLanguageList\":[\"en\"],\"wgULSCurrentAutonym\":\"English\",\"wgVisualEditor\":{\n",
      "\"pageLanguageCode\":\"en\",\"pageLanguageDir\":\"ltr\",\"pageVariantFallbacks\":\"en\"},\"wgMFDisplayWikibaseDescriptions\":{\"search\":!1,\"nearby\":!1,\"watchlist\":!1,\"tagline\":!1},\"wgMediaViewerOnClick\":!0,\"wgMediaViewerEnabledByDefault\":!0,\"VEForAllToolbarNormal\":[{\"header\":\"visualeditor-toolbar-paragraph-format\",\"title\":\"visualeditor-toolbar-format-tooltip\",\"type\":\"menu\",\"include\":{\"group\":\"format\"},\"promote\":[\"paragraph\"],\"demote\":[\"preformatted\",\"blockquote\"]},{\"header\":\"visualeditor-toolbar-text-style\",\"title\":\"visualeditor-toolbar-style-tooltip\",\"include\":[\"bold\",\"italic\",\"moreTextStyle\"]},{\"include\":[\"link\"]},{\"header\":\"visualeditor-toolbar-structure\",\"title\":\"visualeditor-toolbar-structure\",\"type\":\"list\",\"icon\":\"listBullet\",\"include\":{\"group\":\"structure\"},\"demote\":[\"outdent\",\"indent\"]},{\"header\":\"visualeditor-toolbar-insert\",\"title\":\"visualeditor-toolbar-insert\",\"type\":\"list\",\"icon\":\"add\",\"label\":\"\",\"include\":[\"insertTable\",\"specialCharacter\",\"warningblock\",\"preformatted\",\n",
      "\"infoblock\",\"ideablock\",\"dontblock\",\"pinblock\",\"math\",\"media\"]}],\"VEForAllToolbarWide\":[{\"header\":\"visualeditor-toolbar-paragraph-format\",\"title\":\"visualeditor-toolbar-format-tooltip\",\"type\":\"menu\",\"include\":{\"group\":\"format\"},\"promote\":[\"paragraph\"],\"demote\":[\"preformatted\",\"blockquote\"]},{\"header\":\"visualeditor-toolbar-text-style\",\"title\":\"visualeditor-toolbar-style-tooltip\",\"include\":[\"bold\",\"italic\",\"moreTextStyle\"]},{\"include\":[\"link\"]},{\"header\":\"visualeditor-toolbar-structure\",\"title\":\"visualeditor-toolbar-structure\",\"type\":\"list\",\"icon\":\"listBullet\",\"include\":{\"group\":\"structure\"},\"demote\":[\"outdent\",\"indent\"]},{\"header\":\"visualeditor-toolbar-insert\",\"title\":\"visualeditor-toolbar-insert\",\"type\":\"list\",\"icon\":\"add\",\"label\":\"\",\"include\":[\"media\",\"insertTable\",\"specialCharacter\",\"warningblock\",\"preformatted\",\"infoblock\",\"ideablock\",\"dontblock\",\"pinblock\"]}],\"srfFilteredConfig\":null,\"egMapsScriptPath\":\"/en/wiki/extensions/Maps/\",\"egMapsDebugJS\":!1,\"egMapsAvailableServices\":[\n",
      "\"leaflet\",\"googlemaps3\"],\"egMapsLeafletLayersApiKeys\":{\"MapBox\":\"\",\"MapQuestOpen\":\"\",\"Thunderforest\":\"\",\"GeoportailFrance\":\"\"},\"wgSmjUseCdn\":!0,\"wgSmjUseChem\":!0,\"wgSmjDisplayMath\":[],\"wgSmjExtraInlineMath\":[],\"wgSmjScale\":1,\"wgSmjEnableMenu\":!0,\"wgSmjDisplayAlign\":\"left\",\"wgULSPosition\":\"personal\",\"wgEditSubmitButtonLabelPublish\":!1,\"VEForAll\":{\"VisualEditorEnable\":1}};RLSTATE={\"site.styles\":\"ready\",\"noscript\":\"ready\",\"user.styles\":\"ready\",\"user\":\"ready\",\"user.options\":\"loading\",\"ext.bootstrap.styles\":\"ready\",\"skins.vector.styles.legacy\":\"ready\",\"ext.uls.pt\":\"ready\",\"ext.visualEditor.desktopArticleTarget.noscript\":\"ready\",\"z.ext.FsHeader.styles\":\"ready\",\"ext.srf.styles\":\"ready\",\"ext.smw.style\":\"ready\",\"ext.smw.tooltip.styles\":\"ready\"};RLPAGEMODULES=[\"ext.smw.style\",\"ext.smw.tooltips\",\"ext.bootstrap.scripts\",\"ext.Lingo\",\"smw.entityexaminer\",\"site\",\"mediawiki.page.startup\",\"mediawiki.page.ready\",\"skins.vector.legacy.js\",\"ext.meetingminutes.template\",\"ext.uls.interface\",\n",
      "\"ext.visualEditor.desktopArticleTarget.init\",\"ext.visualEditor.targetLoader\",\"ext.FsHeader.maps\",\"ext.FsHeader.scripts\",\"ext.GoogleTranslator\"];\n",
      "1\n",
      "(RLQ=window.RLQ||[]).push(function(){mw.loader.implement(\"user.options@1hzgi\",function($,jQuery,require,module){/*@nomin*/mw.user.tokens.set({\"patrolToken\":\"+\\\\\",\"watchToken\":\"+\\\\\",\"csrfToken\":\"+\\\\\"});\n",
      "});});\n",
      "2\n",
      "{\"@context\":\"http:\\/\\/schema.org\",\"@type\":\"article\",\"name\":\"Traditional Nicknames in Old Documents - A Wiki List \\u2022 FamilySearch\",\"headline\":\"Traditional Nicknames in Old Documents - A Wiki List \\u2022 FamilySearch\",\"mainEntityOfPage\":\"Traditional Nicknames in Old Documents - A Wiki List\",\"identifier\":\"https:\\/\\/www.familysearch.org\\/en\\/wiki\\/Traditional_Nicknames_in_Old_Documents_-_A_Wiki_List\",\"url\":\"https:\\/\\/www.familysearch.org\\/en\\/wiki\\/Traditional_Nicknames_in_Old_Documents_-_A_Wiki_List\",\"description\":\"Alphabetical list of historic personal nicknames and what they represent. This is a wiki list intended to be expanded by its users.\",\"dateModified\":\"2021-03-02T19:39:03Z\",\"datePublished\":\"2021-03-02T19:39:03Z\",\"image\":{\"@type\":\"ImageObject\",\"url\":\"https:\\/\\/www.familysearch.org\\/en\\/wiki\\/logo.png\"},\"author\":{\"@type\":\"Organization\",\"name\":\"FamilySearch Wiki\",\"url\":\"https:\\/\\/www.familysearch.org\",\"logo\":{\"@type\":\"ImageObject\",\"url\":\"https:\\/\\/www.familysearch.org\\/en\\/wiki\\/logo.png\",\"caption\":\"FamilySearch Wiki\"}},\"publisher\":{\"@type\":\"Organization\",\"name\":\"FamilySearch Wiki\",\"url\":\"https:\\/\\/www.familysearch.org\",\"logo\":{\"@type\":\"ImageObject\",\"url\":\"https:\\/\\/www.familysearch.org\\/en\\/wiki\\/logo.png\",\"caption\":\"FamilySearch Wiki\"}},\"potentialAction\":{\"@type\":\"SearchAction\",\"target\":\"https:\\/\\/www.familysearch.org\\/en\\/wiki\\/index.php?title=Special:Search&search={search_term}\",\"query-input\":\"required name=search_term\"}}\n",
      "3\n",
      " (1) Simply type the nickname on the left, an equals mark in the middle, and the formal name on the right, for example, Bill= William, (2) Please keep the nicknames in alphabetical order. \n",
      "\n",
      "4\n",
      "Step 5. Type in the information using the following pattern, \"nickname = formal name\".\n",
      "5\n",
      "Acer = Acera\n",
      "6\n",
      "Ada = Adeline\n",
      "7\n",
      "Addie = Adelaide\n",
      "798\n",
      "Zed = Zedekiah\n",
      "799\n",
      "Zeke = Ezekiel\n",
      "800\n",
      "Zena = Albertina\n",
      "801\n",
      "Zeph = Zephaniah \n",
     ]
    }
   ],
   "source": [
    "lines = [s for s in soup.strings if '=' in s]\n",
    "k = 0\n",
    "for line in lines:\n",
    "    if '=' in line:\n",
    "        print(k)\n",
    "        k += 1\n",
    "        print(line)"
   ]
  },
  {
   "cell_type": "markdown",
   "id": "218e47ad",
   "metadata": {},
   "source": [
    "### Names for Nicknames\n",
    "Our desired information starts at index 5 and ends index 801"
   ]
  },
  {
   "cell_type": "markdown",
   "id": "bc616576",
   "metadata": {},
   "source": [
    "#### Note: While the above filter got us close, we still be extracting \"nickname = formal name\" at the start of each new letter\n",
    "we will filter those out with some simple Boolean logic"
   ]
  },
  {
   "cell_type": "code",
   "execution_count": 161,
   "id": "f2fa7a6b",
   "metadata": {},
   "outputs": [],
   "source": [
    "# With lines already defined and our desired indices determined, we will loop through our soup object again\n",
    "# Storing names, nicknames as key : value pairs ()\n",
    "# There were a few escaped characters and descriptions that were leftover after filtering\n",
    "# These will also be filtered out\n",
    "\n",
    "name_dict = {}\n",
    "filters = [' ', '\\xa0', '\\n', '(orusedasanameforthebabyofthefamily)', '(f)']\n",
    "\n",
    "for line in range(5, 802):\n",
    "    if \"Nickname = Formal Name\" not in lines[line] and \"Butch\" not in lines[line]:     # Butch is a train wreck \n",
    "        pairs = lines[line]\n",
    "        for f in filters:\n",
    "            pairs = pairs.replace(f, '')\n",
    "        pairs = pairs.split('=')\n",
    "        if len(pairs) == 2:\n",
    "            name_dict[pairs[1]] = pairs[0]\n",
    "        else:\n",
    "            nicknames = ''\n",
    "            for p in pairs[:-1]:\n",
    "                nicknames += p + ', '\n",
    "            nicknames = nicknames[:-2]    # get rid of the extra comma\n",
    "            name_dict[pairs[-1]] = nicknames\n"
   ]
  },
  {
   "cell_type": "code",
   "execution_count": 162,
   "id": "53fb8cf2",
   "metadata": {},
   "outputs": [
    {
     "data": {
      "text/plain": [
       "{'Acera': 'Acer',\n",
       " 'Adeline': 'Ada',\n",
       " 'Adelaide': 'Addie',\n",
       " 'Agatha': 'Agnes',\n",
       " 'Agnes': 'Senga',\n",
       " 'Nancy': 'Nanny',\n",
      ]
     },
     "execution_count": 162,
     "metadata": {},
     "output_type": "execute_result"
    }
   ],
   "source": [
    "name_dict"
   ]
  },
  {
   "cell_type": "code",
   "execution_count": 163,
   "id": "25c45017",
   "metadata": {},
   "outputs": [
    {
     "data": {
      "text/plain": [
       "{'Acera': 'Acer',\n",
       " 'Adeline': 'Ada',\n",
       " 'Adelaide': 'Addie',\n",
       " 'Zebulon': 'Zeb',\n",
       " 'Zedekiah': 'Zed',\n",
       " 'Ezekiel': 'Zeke',\n",
       " 'Zephaniah': 'Zeph'}"
      ]
     },
     "execution_count": 163,
     "metadata": {},
     "output_type": "execute_result"
    }
   ],
   "source": [
    "# Two escaped the filters. \n",
    "\n",
    "# 'Emilia*Emile'\n",
    "# 'namegivento7thchild'\n",
    "\n",
    "name_dict.pop('Emilia*Emile')\n",
    "name_dict.pop('namegivento7thchild')\n",
    "\n",
    "name_dict"
   ]
  },
  {
   "cell_type": "markdown",
   "id": "ff49c1cb",
   "metadata": {},
   "source": [
    "### I know none of this is optimal...\n",
    "I have a habit of wasting far too much time trying to optimize trivial tasks.\n",
    "\n",
    "This is not one of those times.\n",
    "\n"
   ]
  },
  {
   "cell_type": "code",
   "execution_count": 173,
   "id": "d264633f",
   "metadata": {},
   "outputs": [],
   "source": [
    "df = pd.DataFrame.from_dict([name_dict])"
   ]
  },
  {
   "cell_type": "code",
   "execution_count": 220,
   "id": "9fd20e53",
   "metadata": {},
   "outputs": [
    {
     "data": {
      "text/html": [
       "<div>\n",
       "<style scoped>\n",
       "    .dataframe tbody tr th:only-of-type {\n",
       "        vertical-align: middle;\n",
       "    }\n",
       "\n",
       "    .dataframe tbody tr th {\n",
       "        vertical-align: top;\n",
       "    }\n",
       "\n",
       "    .dataframe thead th {\n",
       "        text-align: right;\n",
       "    }\n",
       "</style>\n",
       "<table border=\"1\" class=\"dataframe\">\n",
       "  <thead>\n",
       "    <tr style=\"text-align: right;\">\n",
       "      <th></th>\n",
       "      <th>0</th>\n",
       "    </tr>\n",
       "  </thead>\n",
       "  <tbody>\n",
       "    <tr>\n",
       "      <th>Acera</th>\n",
       "      <td>Acer</td>\n",
       "    </tr>\n",
       "    <tr>\n",
       "      <th>Adeline</th>\n",
       "      <td>Ada</td>\n",
       "    </tr>\n",
       "    <tr>\n",
       "      <th>Adelaide</th>\n",
       "      <td>Addie</td>\n",
       "    </tr>\n",
       "    <tr>\n",
       "      <th>Agatha</th>\n",
       "      <td>Agnes</td>\n",
       "    </tr>\n",
       "    <tr>\n",
       "      <th>Agnes</th>\n",
       "      <td>Senga</td>\n",
       "    </tr>\n",
       "  </tbody>\n",
       "</table>\n",
       "</div>"
      ],
      "text/plain": [
       "              0\n",
       "Acera      Acer\n",
       "Adeline     Ada\n",
       "Adelaide  Addie\n",
       "Agatha    Agnes\n",
       "Agnes     Senga"
      ]
     },
     "execution_count": 220,
     "metadata": {},
     "output_type": "execute_result"
    }
   ],
   "source": [
    "# We will transpose for better viewing\n",
    "\n",
    "df = df.transpose()\n",
    "df.head(5)"
   ]
  },
  {
   "cell_type": "code",
   "execution_count": 221,
   "id": "de38ac36",
   "metadata": {},
   "outputs": [],
   "source": [
    "df.to_csv('Name_Nicknames.csv')"
   ]
  }
 ],
 "metadata": {
  "kernelspec": {
   "display_name": "Python 3 (ipykernel)",
   "language": "python",
   "name": "python3"
  },
  "language_info": {
   "codemirror_mode": {
    "name": "ipython",
    "version": 3
   },
   "file_extension": ".py",
   "mimetype": "text/x-python",
   "name": "python",
   "nbconvert_exporter": "python",
   "pygments_lexer": "ipython3",
   "version": "3.9.7"
  }
 },
 "nbformat": 4,
 "nbformat_minor": 5
}
